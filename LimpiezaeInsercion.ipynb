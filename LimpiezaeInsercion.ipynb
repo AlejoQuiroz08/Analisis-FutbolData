{
 "cells": [
  {
   "cell_type": "code",
   "execution_count": 6,
   "metadata": {},
   "outputs": [],
   "source": [
    "import pandas as pd"
   ]
  },
  {
   "cell_type": "code",
   "execution_count": 7,
   "metadata": {},
   "outputs": [
    {
     "data": {
      "text/html": [
       "<div>\n",
       "<style scoped>\n",
       "    .dataframe tbody tr th:only-of-type {\n",
       "        vertical-align: middle;\n",
       "    }\n",
       "\n",
       "    .dataframe tbody tr th {\n",
       "        vertical-align: top;\n",
       "    }\n",
       "\n",
       "    .dataframe thead th {\n",
       "        text-align: right;\n",
       "    }\n",
       "</style>\n",
       "<table border=\"1\" class=\"dataframe\">\n",
       "  <thead>\n",
       "    <tr style=\"text-align: right;\">\n",
       "      <th></th>\n",
       "      <th>ranking</th>\n",
       "      <th>club name</th>\n",
       "      <th>country</th>\n",
       "      <th>point score</th>\n",
       "      <th>1 year change</th>\n",
       "      <th>previous point scored</th>\n",
       "      <th>symbol change</th>\n",
       "    </tr>\n",
       "  </thead>\n",
       "  <tbody>\n",
       "    <tr>\n",
       "      <th>0</th>\n",
       "      <td>88</td>\n",
       "      <td>1. FC Köln</td>\n",
       "      <td>Germany</td>\n",
       "      <td>1633</td>\n",
       "      <td>105</td>\n",
       "      <td>1545</td>\n",
       "      <td>+</td>\n",
       "    </tr>\n",
       "    <tr>\n",
       "      <th>1</th>\n",
       "      <td>74</td>\n",
       "      <td>1. FC Union Berlin</td>\n",
       "      <td>Germany</td>\n",
       "      <td>1655</td>\n",
       "      <td>5</td>\n",
       "      <td>1654</td>\n",
       "      <td>+</td>\n",
       "    </tr>\n",
       "    <tr>\n",
       "      <th>2</th>\n",
       "      <td>780</td>\n",
       "      <td>12 de Octubre de Itaugua</td>\n",
       "      <td>Paraguay</td>\n",
       "      <td>1377</td>\n",
       "      <td>70</td>\n",
       "      <td>1388</td>\n",
       "      <td>-</td>\n",
       "    </tr>\n",
       "    <tr>\n",
       "      <th>3</th>\n",
       "      <td>268</td>\n",
       "      <td>1º de Agosto</td>\n",
       "      <td>Angola</td>\n",
       "      <td>1513</td>\n",
       "      <td>13</td>\n",
       "      <td>1516</td>\n",
       "      <td>-</td>\n",
       "    </tr>\n",
       "    <tr>\n",
       "      <th>4</th>\n",
       "      <td>2525</td>\n",
       "      <td>1º de Maio</td>\n",
       "      <td>Angola</td>\n",
       "      <td>1218</td>\n",
       "      <td>22</td>\n",
       "      <td>1218</td>\n",
       "      <td>-</td>\n",
       "    </tr>\n",
       "    <tr>\n",
       "      <th>...</th>\n",
       "      <td>...</td>\n",
       "      <td>...</td>\n",
       "      <td>...</td>\n",
       "      <td>...</td>\n",
       "      <td>...</td>\n",
       "      <td>...</td>\n",
       "      <td>...</td>\n",
       "    </tr>\n",
       "    <tr>\n",
       "      <th>2807</th>\n",
       "      <td>316</td>\n",
       "      <td>Zrinjski Mostar</td>\n",
       "      <td>Bosnia and Herzegovina</td>\n",
       "      <td>1488</td>\n",
       "      <td>127</td>\n",
       "      <td>1449</td>\n",
       "      <td>+</td>\n",
       "    </tr>\n",
       "    <tr>\n",
       "      <th>2808</th>\n",
       "      <td>1387</td>\n",
       "      <td>Zulia</td>\n",
       "      <td>Venezuela</td>\n",
       "      <td>1304</td>\n",
       "      <td>123</td>\n",
       "      <td>1318</td>\n",
       "      <td>-</td>\n",
       "    </tr>\n",
       "    <tr>\n",
       "      <th>2809</th>\n",
       "      <td>1187</td>\n",
       "      <td>Zulte Waregem</td>\n",
       "      <td>Belgium</td>\n",
       "      <td>1326</td>\n",
       "      <td>423</td>\n",
       "      <td>1377</td>\n",
       "      <td>-</td>\n",
       "    </tr>\n",
       "    <tr>\n",
       "      <th>2810</th>\n",
       "      <td>2389</td>\n",
       "      <td>Zumunta</td>\n",
       "      <td>Niger</td>\n",
       "      <td>1231</td>\n",
       "      <td>30</td>\n",
       "      <td>1231</td>\n",
       "      <td>-</td>\n",
       "    </tr>\n",
       "    <tr>\n",
       "      <th>2811</th>\n",
       "      <td>325</td>\n",
       "      <td>Zürich</td>\n",
       "      <td>Switzerland</td>\n",
       "      <td>1484</td>\n",
       "      <td>424</td>\n",
       "      <td>1381</td>\n",
       "      <td>+</td>\n",
       "    </tr>\n",
       "  </tbody>\n",
       "</table>\n",
       "<p>2812 rows × 7 columns</p>\n",
       "</div>"
      ],
      "text/plain": [
       "      ranking                club name                  country  point score  \\\n",
       "0          88                1. FC Köln                 Germany         1633   \n",
       "1          74        1. FC Union Berlin                 Germany         1655   \n",
       "2         780  12 de Octubre de Itaugua                Paraguay         1377   \n",
       "3         268              1º de Agosto                  Angola         1513   \n",
       "4        2525                1º de Maio                  Angola         1218   \n",
       "...       ...                       ...                     ...          ...   \n",
       "2807      316           Zrinjski Mostar  Bosnia and Herzegovina         1488   \n",
       "2808     1387                     Zulia               Venezuela         1304   \n",
       "2809     1187             Zulte Waregem                 Belgium         1326   \n",
       "2810     2389                   Zumunta                   Niger         1231   \n",
       "2811      325                    Zürich             Switzerland         1484   \n",
       "\n",
       "      1 year change  previous point scored symbol change  \n",
       "0               105                   1545             +  \n",
       "1                 5                   1654             +  \n",
       "2                70                   1388             -  \n",
       "3                13                   1516             -  \n",
       "4                22                   1218             -  \n",
       "...             ...                    ...           ...  \n",
       "2807            127                   1449             +  \n",
       "2808            123                   1318             -  \n",
       "2809            423                   1377             -  \n",
       "2810             30                   1231             -  \n",
       "2811            424                   1381             +  \n",
       "\n",
       "[2812 rows x 7 columns]"
      ]
     },
     "execution_count": 7,
     "metadata": {},
     "output_type": "execute_result"
    }
   ],
   "source": [
    "RankingEquipos = pd.read_csv(\"Soccer_Football Clubs Ranking.csv\")\n",
    "RankingEquipos "
   ]
  },
  {
   "cell_type": "code",
   "execution_count": 8,
   "metadata": {},
   "outputs": [
    {
     "data": {
      "text/plain": [
       "(2812, 7)"
      ]
     },
     "execution_count": 8,
     "metadata": {},
     "output_type": "execute_result"
    }
   ],
   "source": [
    "\n",
    "#Comprobamos las dimensiones:\n",
    "RankingEquipos.shape\n"
   ]
  },
  {
   "cell_type": "code",
   "execution_count": 9,
   "metadata": {},
   "outputs": [
    {
     "data": {
      "text/plain": [
       "(2762, 7)"
      ]
     },
     "execution_count": 9,
     "metadata": {},
     "output_type": "execute_result"
    }
   ],
   "source": [
    "\n",
    "#Eliminamos los duplicados:\n",
    "RankingEquipos = RankingEquipos.drop_duplicates()\n",
    "#Comprobamos las dimensiones:\n",
    "RankingEquipos.shape"
   ]
  },
  {
   "cell_type": "code",
   "execution_count": 11,
   "metadata": {},
   "outputs": [
    {
     "data": {
      "text/plain": [
       "ranking                  0\n",
       "club name                0\n",
       "country                  0\n",
       "point score              0\n",
       "1 year change            0\n",
       "previous point scored    0\n",
       "symbol change            0\n",
       "dtype: int64"
      ]
     },
     "execution_count": 11,
     "metadata": {},
     "output_type": "execute_result"
    }
   ],
   "source": [
    "RankingEquipos.isnull().sum()"
   ]
  },
  {
   "cell_type": "code",
   "execution_count": 13,
   "metadata": {},
   "outputs": [
    {
     "name": "stderr",
     "output_type": "stream",
     "text": [
      "C:\\Users\\Alejo\\AppData\\Local\\Temp\\ipykernel_9272\\2613420111.py:3: FutureWarning: A value is trying to be set on a copy of a DataFrame or Series through chained assignment using an inplace method.\n",
      "The behavior will change in pandas 3.0. This inplace method will never work because the intermediate object on which we are setting values always behaves as a copy.\n",
      "\n",
      "For example, when doing 'df[col].method(value, inplace=True)', try using 'df.method({col: value}, inplace=True)' or df[col] = df[col].method(value) instead, to perform the operation inplace on the original object.\n",
      "\n",
      "\n",
      "  RankingEquipos[columna].fillna(RankingEquipos[columna].mean(), inplace=True)\n",
      "C:\\Users\\Alejo\\AppData\\Local\\Temp\\ipykernel_9272\\2613420111.py:3: SettingWithCopyWarning: \n",
      "A value is trying to be set on a copy of a slice from a DataFrame\n",
      "\n",
      "See the caveats in the documentation: https://pandas.pydata.org/pandas-docs/stable/user_guide/indexing.html#returning-a-view-versus-a-copy\n",
      "  RankingEquipos[columna].fillna(RankingEquipos[columna].mean(), inplace=True)\n"
     ]
    }
   ],
   "source": [
    "#los valores nulos de columnas numericas los remplazamos por la media\n",
    "for columna in RankingEquipos.select_dtypes(include=['float64', 'int64']).columns:\n",
    "        RankingEquipos[columna].fillna(RankingEquipos[columna].mean(), inplace=True)"
   ]
  },
  {
   "cell_type": "code",
   "execution_count": 14,
   "metadata": {},
   "outputs": [
    {
     "data": {
      "text/plain": [
       "ranking                  0\n",
       "club name                0\n",
       "country                  0\n",
       "point score              0\n",
       "1 year change            0\n",
       "previous point scored    0\n",
       "symbol change            0\n",
       "dtype: int64"
      ]
     },
     "execution_count": 14,
     "metadata": {},
     "output_type": "execute_result"
    }
   ],
   "source": [
    "RankingEquipos.isnull().sum()"
   ]
  },
  {
   "cell_type": "code",
   "execution_count": 12,
   "metadata": {},
   "outputs": [
    {
     "name": "stdout",
     "output_type": "stream",
     "text": [
      "<class 'pandas.core.frame.DataFrame'>\n",
      "Index: 2762 entries, 0 to 2811\n",
      "Data columns (total 7 columns):\n",
      " #   Column                 Non-Null Count  Dtype \n",
      "---  ------                 --------------  ----- \n",
      " 0   ranking                2762 non-null   int64 \n",
      " 1   club name              2762 non-null   object\n",
      " 2   country                2762 non-null   object\n",
      " 3   point score            2762 non-null   int64 \n",
      " 4   1 year change          2762 non-null   int64 \n",
      " 5   previous point scored  2762 non-null   int64 \n",
      " 6   symbol change          2762 non-null   object\n",
      "dtypes: int64(4), object(3)\n",
      "memory usage: 172.6+ KB\n",
      "None\n"
     ]
    }
   ],
   "source": [
    "# Mostrar información general del DataFrame\n",
    "print(RankingEquipos.info())"
   ]
  },
  {
   "cell_type": "code",
   "execution_count": 15,
   "metadata": {},
   "outputs": [
    {
     "name": "stdout",
     "output_type": "stream",
     "text": [
      "   ranking                club name    country  point score  1 year change  \\\n",
      "0       88                1. FC Köln   Germany         1633            105   \n",
      "1       74        1. FC Union Berlin   Germany         1655              5   \n",
      "2      780  12 de Octubre de Itaugua  Paraguay         1377             70   \n",
      "3      268              1º de Agosto    Angola         1513             13   \n",
      "4     2525                1º de Maio    Angola         1218             22   \n",
      "\n",
      "   previous point scored symbol change  \n",
      "0                   1545             +  \n",
      "1                   1654             +  \n",
      "2                   1388             -  \n",
      "3                   1516             -  \n",
      "4                   1218             -  \n"
     ]
    }
   ],
   "source": [
    "\n",
    "# Mostrar las primeras filas del DataFrame\n",
    "print(RankingEquipos.head())\n",
    "\n"
   ]
  },
  {
   "cell_type": "code",
   "execution_count": 18,
   "metadata": {},
   "outputs": [
    {
     "ename": "KeyError",
     "evalue": "'Ranking'",
     "output_type": "error",
     "traceback": [
      "\u001b[1;31m---------------------------------------------------------------------------\u001b[0m",
      "\u001b[1;31mKeyError\u001b[0m                                  Traceback (most recent call last)",
      "File \u001b[1;32m~\\AppData\\Local\\Packages\\PythonSoftwareFoundation.Python.3.11_qbz5n2kfra8p0\\LocalCache\\local-packages\\Python311\\site-packages\\pandas\\core\\indexes\\base.py:3805\u001b[0m, in \u001b[0;36mIndex.get_loc\u001b[1;34m(self, key)\u001b[0m\n\u001b[0;32m   3804\u001b[0m \u001b[38;5;28;01mtry\u001b[39;00m:\n\u001b[1;32m-> 3805\u001b[0m     \u001b[38;5;28;01mreturn\u001b[39;00m \u001b[38;5;28;43mself\u001b[39;49m\u001b[38;5;241;43m.\u001b[39;49m\u001b[43m_engine\u001b[49m\u001b[38;5;241;43m.\u001b[39;49m\u001b[43mget_loc\u001b[49m\u001b[43m(\u001b[49m\u001b[43mcasted_key\u001b[49m\u001b[43m)\u001b[49m\n\u001b[0;32m   3806\u001b[0m \u001b[38;5;28;01mexcept\u001b[39;00m \u001b[38;5;167;01mKeyError\u001b[39;00m \u001b[38;5;28;01mas\u001b[39;00m err:\n",
      "File \u001b[1;32mindex.pyx:167\u001b[0m, in \u001b[0;36mpandas._libs.index.IndexEngine.get_loc\u001b[1;34m()\u001b[0m\n",
      "File \u001b[1;32mindex.pyx:196\u001b[0m, in \u001b[0;36mpandas._libs.index.IndexEngine.get_loc\u001b[1;34m()\u001b[0m\n",
      "File \u001b[1;32mpandas\\\\_libs\\\\hashtable_class_helper.pxi:7081\u001b[0m, in \u001b[0;36mpandas._libs.hashtable.PyObjectHashTable.get_item\u001b[1;34m()\u001b[0m\n",
      "File \u001b[1;32mpandas\\\\_libs\\\\hashtable_class_helper.pxi:7089\u001b[0m, in \u001b[0;36mpandas._libs.hashtable.PyObjectHashTable.get_item\u001b[1;34m()\u001b[0m\n",
      "\u001b[1;31mKeyError\u001b[0m: 'Ranking'",
      "\nThe above exception was the direct cause of the following exception:\n",
      "\u001b[1;31mKeyError\u001b[0m                                  Traceback (most recent call last)",
      "Cell \u001b[1;32mIn[18], line 2\u001b[0m\n\u001b[0;32m      1\u001b[0m \u001b[38;5;66;03m# Calcular el máximo y mínimo de la columna \"Points\"\u001b[39;00m\n\u001b[1;32m----> 2\u001b[0m max_puntos \u001b[38;5;241m=\u001b[39m \u001b[43mRankingEquipos\u001b[49m\u001b[43m[\u001b[49m\u001b[38;5;124;43m'\u001b[39;49m\u001b[38;5;124;43mRanking\u001b[39;49m\u001b[38;5;124;43m'\u001b[39;49m\u001b[43m]\u001b[49m\u001b[38;5;241m.\u001b[39mmax()\n\u001b[0;32m      3\u001b[0m min_puntos \u001b[38;5;241m=\u001b[39m RankingEquipos[\u001b[38;5;124m'\u001b[39m\u001b[38;5;124mRanking\u001b[39m\u001b[38;5;124m'\u001b[39m]\u001b[38;5;241m.\u001b[39mmin()\n\u001b[0;32m      4\u001b[0m \u001b[38;5;28mprint\u001b[39m(\u001b[38;5;124m\"\u001b[39m\u001b[38;5;130;01m\\n\u001b[39;00m\u001b[38;5;124mMáximo del Ranking:\u001b[39m\u001b[38;5;124m\"\u001b[39m, max_puntos)\n",
      "File \u001b[1;32m~\\AppData\\Local\\Packages\\PythonSoftwareFoundation.Python.3.11_qbz5n2kfra8p0\\LocalCache\\local-packages\\Python311\\site-packages\\pandas\\core\\frame.py:4090\u001b[0m, in \u001b[0;36mDataFrame.__getitem__\u001b[1;34m(self, key)\u001b[0m\n\u001b[0;32m   4088\u001b[0m \u001b[38;5;28;01mif\u001b[39;00m \u001b[38;5;28mself\u001b[39m\u001b[38;5;241m.\u001b[39mcolumns\u001b[38;5;241m.\u001b[39mnlevels \u001b[38;5;241m>\u001b[39m \u001b[38;5;241m1\u001b[39m:\n\u001b[0;32m   4089\u001b[0m     \u001b[38;5;28;01mreturn\u001b[39;00m \u001b[38;5;28mself\u001b[39m\u001b[38;5;241m.\u001b[39m_getitem_multilevel(key)\n\u001b[1;32m-> 4090\u001b[0m indexer \u001b[38;5;241m=\u001b[39m \u001b[38;5;28;43mself\u001b[39;49m\u001b[38;5;241;43m.\u001b[39;49m\u001b[43mcolumns\u001b[49m\u001b[38;5;241;43m.\u001b[39;49m\u001b[43mget_loc\u001b[49m\u001b[43m(\u001b[49m\u001b[43mkey\u001b[49m\u001b[43m)\u001b[49m\n\u001b[0;32m   4091\u001b[0m \u001b[38;5;28;01mif\u001b[39;00m is_integer(indexer):\n\u001b[0;32m   4092\u001b[0m     indexer \u001b[38;5;241m=\u001b[39m [indexer]\n",
      "File \u001b[1;32m~\\AppData\\Local\\Packages\\PythonSoftwareFoundation.Python.3.11_qbz5n2kfra8p0\\LocalCache\\local-packages\\Python311\\site-packages\\pandas\\core\\indexes\\base.py:3812\u001b[0m, in \u001b[0;36mIndex.get_loc\u001b[1;34m(self, key)\u001b[0m\n\u001b[0;32m   3807\u001b[0m     \u001b[38;5;28;01mif\u001b[39;00m \u001b[38;5;28misinstance\u001b[39m(casted_key, \u001b[38;5;28mslice\u001b[39m) \u001b[38;5;129;01mor\u001b[39;00m (\n\u001b[0;32m   3808\u001b[0m         \u001b[38;5;28misinstance\u001b[39m(casted_key, abc\u001b[38;5;241m.\u001b[39mIterable)\n\u001b[0;32m   3809\u001b[0m         \u001b[38;5;129;01mand\u001b[39;00m \u001b[38;5;28many\u001b[39m(\u001b[38;5;28misinstance\u001b[39m(x, \u001b[38;5;28mslice\u001b[39m) \u001b[38;5;28;01mfor\u001b[39;00m x \u001b[38;5;129;01min\u001b[39;00m casted_key)\n\u001b[0;32m   3810\u001b[0m     ):\n\u001b[0;32m   3811\u001b[0m         \u001b[38;5;28;01mraise\u001b[39;00m InvalidIndexError(key)\n\u001b[1;32m-> 3812\u001b[0m     \u001b[38;5;28;01mraise\u001b[39;00m \u001b[38;5;167;01mKeyError\u001b[39;00m(key) \u001b[38;5;28;01mfrom\u001b[39;00m \u001b[38;5;21;01merr\u001b[39;00m\n\u001b[0;32m   3813\u001b[0m \u001b[38;5;28;01mexcept\u001b[39;00m \u001b[38;5;167;01mTypeError\u001b[39;00m:\n\u001b[0;32m   3814\u001b[0m     \u001b[38;5;66;03m# If we have a listlike key, _check_indexing_error will raise\u001b[39;00m\n\u001b[0;32m   3815\u001b[0m     \u001b[38;5;66;03m#  InvalidIndexError. Otherwise we fall through and re-raise\u001b[39;00m\n\u001b[0;32m   3816\u001b[0m     \u001b[38;5;66;03m#  the TypeError.\u001b[39;00m\n\u001b[0;32m   3817\u001b[0m     \u001b[38;5;28mself\u001b[39m\u001b[38;5;241m.\u001b[39m_check_indexing_error(key)\n",
      "\u001b[1;31mKeyError\u001b[0m: 'Ranking'"
     ]
    }
   ],
   "source": [
    "\n",
    "\n",
    "# Calcular el máximo y mínimo de la columna \"Points\"\n",
    "max_puntos = RankingEquipos['ranking'].max()\n",
    "min_puntos = RankingEquipos['ranking'].min()\n",
    "print(\"\\nMáximo del Ranking:\", max_puntos)\n",
    "print(\"Mínimo de Ranking:\", min_puntos)\n",
    "# Calcular el promedio de la columna \"Points\"\n",
    "promedio_puntos = RankingEquipos['Ranking'].mean()\n",
    "print(\"Promedio de puntos:\", promedio_puntos)\n"
   ]
  },
  {
   "cell_type": "code",
   "execution_count": null,
   "metadata": {},
   "outputs": [],
   "source": [
    "\n",
    "    # Traducir la columna especificada si se proporciona la información necesaria\n",
    "    if columna_a_traducir and idioma_origen and idioma_destino:\n",
    "        translator = Translator()\n",
    "        df[columna_a_traducir] = df[columna_a_traducir].apply(lambda x: translator.translate(x, src=idioma_origen, dest=idioma_destino).text)\n",
    "\n"
   ]
  }
 ],
 "metadata": {
  "kernelspec": {
   "display_name": "Python 3",
   "language": "python",
   "name": "python3"
  },
  "language_info": {
   "codemirror_mode": {
    "name": "ipython",
    "version": 3
   },
   "file_extension": ".py",
   "mimetype": "text/x-python",
   "name": "python",
   "nbconvert_exporter": "python",
   "pygments_lexer": "ipython3",
   "version": "3.11.7"
  }
 },
 "nbformat": 4,
 "nbformat_minor": 2
}
